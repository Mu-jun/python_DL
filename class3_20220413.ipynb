{
 "cells": [
  {
   "cell_type": "code",
   "execution_count": 1,
   "id": "44ea2449",
   "metadata": {},
   "outputs": [],
   "source": [
    "import numpy as np\n",
    "import matplotlib.pyplot as plt"
   ]
  },
  {
   "cell_type": "code",
   "execution_count": 2,
   "id": "13781f23",
   "metadata": {},
   "outputs": [
    {
     "name": "stdout",
     "output_type": "stream",
     "text": [
      "[2 4 6 8]\n"
     ]
    }
   ],
   "source": [
    "x = np.arange(2,10,step=2)\n",
    "print(x)"
   ]
  },
  {
   "cell_type": "code",
   "execution_count": 3,
   "id": "610f6873",
   "metadata": {},
   "outputs": [
    {
     "name": "stdout",
     "output_type": "stream",
     "text": [
      "[81 93 91 97]\n"
     ]
    }
   ],
   "source": [
    "y = np.array([81,93,91,97])\n",
    "print(y)"
   ]
  },
  {
   "cell_type": "code",
   "execution_count": 4,
   "id": "c1b70531",
   "metadata": {},
   "outputs": [
    {
     "data": {
      "image/png": "[encoded data removed]",
      "text/plain": [
       "<Figure size 432x288 with 1 Axes>"
      ]
     },
     "metadata": {
      "needs_background": "light"
     },
     "output_type": "display_data"
    }
   ],
   "source": [
    "# 시각화\n",
    "plt.scatter(x, y, s=100) \n",
    "plt.show()"
   ]
  },
  {
   "cell_type": "code",
   "execution_count": 5,
   "id": "c243df27",
   "metadata": {},
   "outputs": [
    {
     "name": "stdout",
     "output_type": "stream",
     "text": [
      "x mean = 5.0\n",
      "y mean = 90.5\n"
     ]
    }
   ],
   "source": [
    "mx = np.mean(x)\n",
    "my = np.mean(y)\n",
    "print(f'x mean = {mx}')\n",
    "print(f'y mean = {my}')"
   ]
  },
  {
   "cell_type": "code",
   "execution_count": 7,
   "id": "457a02b6",
   "metadata": {},
   "outputs": [
    {
     "name": "stdout",
     "output_type": "stream",
     "text": [
      "9.0\n",
      "1.0\n",
      "1.0\n",
      "9.0\n"
     ]
    }
   ],
   "source": [
    "for i in x:\n",
    "    print((i-mx)**2)"
   ]
  },
  {
   "cell_type": "code",
   "execution_count": 10,
   "id": "712ee0e0",
   "metadata": {},
   "outputs": [
    {
     "name": "stdout",
     "output_type": "stream",
     "text": [
      "<class 'numpy.float64'>\n",
      "20.0\n",
      "46.0\n"
     ]
    }
   ],
   "source": [
    "# Sxx,Sxy\n",
    "Sxx = np.sum([(i-mx)**2 for i in x])\n",
    "Sxy = np.sum([(i-mx)*(j-my) for i,j in zip(x,y)])\n",
    "\n",
    "print(type(Sxx))\n",
    "print(Sxx)\n",
    "print(Sxy)"
   ]
  },
  {
   "cell_type": "code",
   "execution_count": 11,
   "id": "ec302698",
   "metadata": {},
   "outputs": [
    {
     "name": "stdout",
     "output_type": "stream",
     "text": [
      "기울기 = 2.3\n",
      "절편 = 79.0\n"
     ]
    }
   ],
   "source": [
    "# 기울기, 절편\n",
    "slope = Sxy/Sxx\n",
    "intercept = my - slope*mx\n",
    "\n",
    "print(\"기울기 =\",slope)\n",
    "print(\"절편 =\",intercept)"
   ]
  },
  {
   "cell_type": "code",
   "execution_count": 15,
   "id": "a3fc50aa",
   "metadata": {},
   "outputs": [
    {
     "data": {
      "image/png": "[encoded data removed]",
      "text/plain": [
       "<Figure size 432x288 with 1 Axes>"
      ]
     },
     "metadata": {
      "needs_background": "light"
     },
     "output_type": "display_data"
    }
   ],
   "source": [
    "# 시각화를 위한 데이터\n",
    "x_ = np.arange(2,9)\n",
    "y_hat = intercept + slope*x_\n",
    "\n",
    "# 시각화\n",
    "plt.scatter(x, y, s=100)\n",
    "plt.plot(x_, y_hat, c='r')\n",
    "plt.show()"
   ]
  },
  {
   "cell_type": "code",
   "execution_count": 17,
   "id": "e49cf009",
   "metadata": {},
   "outputs": [
    {
     "name": "stdout",
     "output_type": "stream",
     "text": [
      "81 83.6\n",
      "93 88.2\n",
      "91 92.8\n",
      "97 97.4\n",
      "mse = 8.299999999999985\n"
     ]
    }
   ],
   "source": [
    "# 평균 제곱 오차 (MSE ; Mean Square Error)\n",
    "mse = 0\n",
    "for i, j in zip(x,y):\n",
    "    predicted = intercept + slope*i    \n",
    "    print(j, predicted)\n",
    "    mse += (j - predicted)**2\n",
    "\n",
    "print('mse =',mse/len(x))"
   ]
  },
  {
   "cell_type": "code",
   "execution_count": null,
   "id": "3ec7e631",
   "metadata": {},
   "outputs": [],
   "source": []
  }
 ],
 "metadata": {
  "kernelspec": {
   "display_name": "base",
   "language": "python",
   "name": "base"
  },
  "language_info": {
   "codemirror_mode": {
    "name": "ipython",
    "version": 3
   },
   "file_extension": ".py",
   "mimetype": "text/x-python",
   "name": "python",
   "nbconvert_exporter": "python",
   "pygments_lexer": "ipython3",
   "version": "3.9.7"
  }
 },
 "nbformat": 4,
 "nbformat_minor": 5
}
