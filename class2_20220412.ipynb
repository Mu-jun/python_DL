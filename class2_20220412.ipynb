{
 "cells": [
  {
   "cell_type": "code",
   "execution_count": 1,
   "id": "4e4dc0c5",
   "metadata": {},
   "outputs": [],
   "source": [
    "import numpy as np\n",
    "import matplotlib.pyplot as plt"
   ]
  },
  {
   "cell_type": "markdown",
   "id": "b49ff044",
   "metadata": {},
   "source": [
    "# 로그함수"
   ]
  },
  {
   "cell_type": "code",
   "execution_count": 8,
   "id": "a3cc881e",
   "metadata": {},
   "outputs": [
    {
     "name": "stdout",
     "output_type": "stream",
     "text": [
      "[-2.00000000e+00 -1.99000000e+00 -1.98000000e+00 -1.97000000e+00\n",
      " -1.96000000e+00 -1.95000000e+00 -1.94000000e+00 -1.93000000e+00\n",
      " -1.92000000e+00 -1.91000000e+00 -1.90000000e+00 -1.89000000e+00\n",
      " -1.88000000e+00 -1.87000000e+00 -1.86000000e+00 -1.85000000e+00\n",
      " -1.84000000e+00 -1.83000000e+00 -1.82000000e+00 -1.81000000e+00\n",
      " -1.80000000e+00 -1.79000000e+00 -1.78000000e+00 -1.77000000e+00\n",
      " -1.76000000e+00 -1.75000000e+00 -1.74000000e+00 -1.73000000e+00\n",
      " -1.72000000e+00 -1.71000000e+00 -1.70000000e+00 -1.69000000e+00\n",
      " -1.68000000e+00 -1.67000000e+00 -1.66000000e+00 -1.65000000e+00\n",
      " -1.64000000e+00 -1.63000000e+00 -1.62000000e+00 -1.61000000e+00\n",
      " -1.60000000e+00 -1.59000000e+00 -1.58000000e+00 -1.57000000e+00\n",
      " -1.56000000e+00 -1.55000000e+00 -1.54000000e+00 -1.53000000e+00\n",
      " -1.52000000e+00 -1.51000000e+00 -1.50000000e+00 -1.49000000e+00\n",
      " -1.48000000e+00 -1.47000000e+00 -1.46000000e+00 -1.45000000e+00\n",
      " -1.44000000e+00 -1.43000000e+00 -1.42000000e+00 -1.41000000e+00\n",
      " -1.40000000e+00 -1.39000000e+00 -1.38000000e+00 -1.37000000e+00\n",
      " -1.36000000e+00 -1.35000000e+00 -1.34000000e+00 -1.33000000e+00\n",
      " -1.32000000e+00 -1.31000000e+00 -1.30000000e+00 -1.29000000e+00\n",
      " -1.28000000e+00 -1.27000000e+00 -1.26000000e+00 -1.25000000e+00\n",
      " -1.24000000e+00 -1.23000000e+00 -1.22000000e+00 -1.21000000e+00\n",
      " -1.20000000e+00 -1.19000000e+00 -1.18000000e+00 -1.17000000e+00\n",
      " -1.16000000e+00 -1.15000000e+00 -1.14000000e+00 -1.13000000e+00\n",
      " -1.12000000e+00 -1.11000000e+00 -1.10000000e+00 -1.09000000e+00\n",
      " -1.08000000e+00 -1.07000000e+00 -1.06000000e+00 -1.05000000e+00\n",
      " -1.04000000e+00 -1.03000000e+00 -1.02000000e+00 -1.01000000e+00\n",
      " -1.00000000e+00 -9.90000000e-01 -9.80000000e-01 -9.70000000e-01\n",
      " -9.60000000e-01 -9.50000000e-01 -9.40000000e-01 -9.30000000e-01\n",
      " -9.20000000e-01 -9.10000000e-01 -9.00000000e-01 -8.90000000e-01\n",
      " -8.80000000e-01 -8.70000000e-01 -8.60000000e-01 -8.50000000e-01\n",
      " -8.40000000e-01 -8.30000000e-01 -8.20000000e-01 -8.10000000e-01\n",
      " -8.00000000e-01 -7.90000000e-01 -7.80000000e-01 -7.70000000e-01\n",
      " -7.60000000e-01 -7.50000000e-01 -7.40000000e-01 -7.30000000e-01\n",
      " -7.20000000e-01 -7.10000000e-01 -7.00000000e-01 -6.90000000e-01\n",
      " -6.80000000e-01 -6.70000000e-01 -6.60000000e-01 -6.50000000e-01\n",
      " -6.40000000e-01 -6.30000000e-01 -6.20000000e-01 -6.10000000e-01\n",
      " -6.00000000e-01 -5.90000000e-01 -5.80000000e-01 -5.70000000e-01\n",
      " -5.60000000e-01 -5.50000000e-01 -5.40000000e-01 -5.30000000e-01\n",
      " -5.20000000e-01 -5.10000000e-01 -5.00000000e-01 -4.90000000e-01\n",
      " -4.80000000e-01 -4.70000000e-01 -4.60000000e-01 -4.50000000e-01\n",
      " -4.40000000e-01 -4.30000000e-01 -4.20000000e-01 -4.10000000e-01\n",
      " -4.00000000e-01 -3.90000000e-01 -3.80000000e-01 -3.70000000e-01\n",
      " -3.60000000e-01 -3.50000000e-01 -3.40000000e-01 -3.30000000e-01\n",
      " -3.20000000e-01 -3.10000000e-01 -3.00000000e-01 -2.90000000e-01\n",
      " -2.80000000e-01 -2.70000000e-01 -2.60000000e-01 -2.50000000e-01\n",
      " -2.40000000e-01 -2.30000000e-01 -2.20000000e-01 -2.10000000e-01\n",
      " -2.00000000e-01 -1.90000000e-01 -1.80000000e-01 -1.70000000e-01\n",
      " -1.60000000e-01 -1.50000000e-01 -1.40000000e-01 -1.30000000e-01\n",
      " -1.20000000e-01 -1.10000000e-01 -1.00000000e-01 -9.00000000e-02\n",
      " -8.00000000e-02 -7.00000000e-02 -6.00000000e-02 -5.00000000e-02\n",
      " -4.00000000e-02 -3.00000000e-02 -2.00000000e-02 -1.00000000e-02\n",
      "  1.77635684e-15  1.00000000e-02  2.00000000e-02  3.00000000e-02\n",
      "  4.00000000e-02  5.00000000e-02  6.00000000e-02  7.00000000e-02\n",
      "  8.00000000e-02  9.00000000e-02  1.00000000e-01  1.10000000e-01\n",
      "  1.20000000e-01  1.30000000e-01  1.40000000e-01  1.50000000e-01\n",
      "  1.60000000e-01  1.70000000e-01  1.80000000e-01  1.90000000e-01\n",
      "  2.00000000e-01  2.10000000e-01  2.20000000e-01  2.30000000e-01\n",
      "  2.40000000e-01  2.50000000e-01  2.60000000e-01  2.70000000e-01\n",
      "  2.80000000e-01  2.90000000e-01  3.00000000e-01  3.10000000e-01\n",
      "  3.20000000e-01  3.30000000e-01  3.40000000e-01  3.50000000e-01\n",
      "  3.60000000e-01  3.70000000e-01  3.80000000e-01  3.90000000e-01\n",
      "  4.00000000e-01  4.10000000e-01  4.20000000e-01  4.30000000e-01\n",
      "  4.40000000e-01  4.50000000e-01  4.60000000e-01  4.70000000e-01\n",
      "  4.80000000e-01  4.90000000e-01  5.00000000e-01  5.10000000e-01\n",
      "  5.20000000e-01  5.30000000e-01  5.40000000e-01  5.50000000e-01\n",
      "  5.60000000e-01  5.70000000e-01  5.80000000e-01  5.90000000e-01\n",
      "  6.00000000e-01  6.10000000e-01  6.20000000e-01  6.30000000e-01\n",
      "  6.40000000e-01  6.50000000e-01  6.60000000e-01  6.70000000e-01\n",
      "  6.80000000e-01  6.90000000e-01  7.00000000e-01  7.10000000e-01\n",
      "  7.20000000e-01  7.30000000e-01  7.40000000e-01  7.50000000e-01\n",
      "  7.60000000e-01  7.70000000e-01  7.80000000e-01  7.90000000e-01\n",
      "  8.00000000e-01  8.10000000e-01  8.20000000e-01  8.30000000e-01\n",
      "  8.40000000e-01  8.50000000e-01  8.60000000e-01  8.70000000e-01\n",
      "  8.80000000e-01  8.90000000e-01  9.00000000e-01  9.10000000e-01\n",
      "  9.20000000e-01  9.30000000e-01  9.40000000e-01  9.50000000e-01\n",
      "  9.60000000e-01  9.70000000e-01  9.80000000e-01  9.90000000e-01\n",
      "  1.00000000e+00  1.01000000e+00  1.02000000e+00  1.03000000e+00\n",
      "  1.04000000e+00  1.05000000e+00  1.06000000e+00  1.07000000e+00\n",
      "  1.08000000e+00  1.09000000e+00  1.10000000e+00  1.11000000e+00\n",
      "  1.12000000e+00  1.13000000e+00  1.14000000e+00  1.15000000e+00\n",
      "  1.16000000e+00  1.17000000e+00  1.18000000e+00  1.19000000e+00\n",
      "  1.20000000e+00  1.21000000e+00  1.22000000e+00  1.23000000e+00\n",
      "  1.24000000e+00  1.25000000e+00  1.26000000e+00  1.27000000e+00\n",
      "  1.28000000e+00  1.29000000e+00  1.30000000e+00  1.31000000e+00\n",
      "  1.32000000e+00  1.33000000e+00  1.34000000e+00  1.35000000e+00\n",
      "  1.36000000e+00  1.37000000e+00  1.38000000e+00  1.39000000e+00\n",
      "  1.40000000e+00  1.41000000e+00  1.42000000e+00  1.43000000e+00\n",
      "  1.44000000e+00  1.45000000e+00  1.46000000e+00  1.47000000e+00\n",
      "  1.48000000e+00  1.49000000e+00  1.50000000e+00  1.51000000e+00\n",
      "  1.52000000e+00  1.53000000e+00  1.54000000e+00  1.55000000e+00\n",
      "  1.56000000e+00  1.57000000e+00  1.58000000e+00  1.59000000e+00\n",
      "  1.60000000e+00  1.61000000e+00  1.62000000e+00  1.63000000e+00\n",
      "  1.64000000e+00  1.65000000e+00  1.66000000e+00  1.67000000e+00\n",
      "  1.68000000e+00  1.69000000e+00  1.70000000e+00  1.71000000e+00\n",
      "  1.72000000e+00  1.73000000e+00  1.74000000e+00  1.75000000e+00\n",
      "  1.76000000e+00  1.77000000e+00  1.78000000e+00  1.79000000e+00\n",
      "  1.80000000e+00  1.81000000e+00  1.82000000e+00  1.83000000e+00\n",
      "  1.84000000e+00  1.85000000e+00  1.86000000e+00  1.87000000e+00\n",
      "  1.88000000e+00  1.89000000e+00  1.90000000e+00  1.91000000e+00\n",
      "  1.92000000e+00  1.93000000e+00  1.94000000e+00  1.95000000e+00\n",
      "  1.96000000e+00  1.97000000e+00  1.98000000e+00  1.99000000e+00]\n"
     ]
    }
   ],
   "source": [
    "x = np.arange(-2, 2, step = 0.01)\n",
    "print(x)"
   ]
  },
  {
   "cell_type": "code",
   "execution_count": 9,
   "id": "03e5c91b",
   "metadata": {},
   "outputs": [
    {
     "name": "stdout",
     "output_type": "stream",
     "text": [
      "[            nan             nan             nan             nan\n",
      "             nan             nan             nan             nan\n",
      "             nan             nan             nan             nan\n",
      "             nan             nan             nan             nan\n",
      "             nan             nan             nan             nan\n",
      "             nan             nan             nan             nan\n",
      "             nan             nan             nan             nan\n",
      "             nan             nan             nan             nan\n",
      "             nan             nan             nan             nan\n",
      "             nan             nan             nan             nan\n",
      "             nan             nan             nan             nan\n",
      "             nan             nan             nan             nan\n",
      "             nan             nan             nan             nan\n",
      "             nan             nan             nan             nan\n",
      "             nan             nan             nan             nan\n",
      "             nan             nan             nan             nan\n",
      "             nan             nan             nan             nan\n",
      "             nan             nan             nan             nan\n",
      "             nan             nan             nan             nan\n",
      "             nan             nan             nan             nan\n",
      "             nan             nan             nan             nan\n",
      "             nan             nan             nan             nan\n",
      "             nan             nan             nan             nan\n",
      "             nan             nan             nan             nan\n",
      "             nan             nan             nan             nan\n",
      "             nan             nan             nan             nan\n",
      "             nan             nan             nan             nan\n",
      "             nan             nan             nan             nan\n",
      "             nan             nan             nan             nan\n",
      "             nan             nan             nan             nan\n",
      "             nan             nan             nan             nan\n",
      "             nan             nan             nan             nan\n",
      "             nan             nan             nan             nan\n",
      "             nan             nan             nan             nan\n",
      "             nan             nan             nan             nan\n",
      "             nan             nan             nan             nan\n",
      "             nan             nan             nan             nan\n",
      "             nan             nan             nan             nan\n",
      "             nan             nan             nan             nan\n",
      "             nan             nan             nan             nan\n",
      "             nan             nan             nan             nan\n",
      "             nan             nan             nan             nan\n",
      "             nan             nan             nan             nan\n",
      "             nan             nan             nan             nan\n",
      "             nan             nan             nan             nan\n",
      "             nan             nan             nan             nan\n",
      "             nan             nan             nan             nan\n",
      "             nan             nan             nan             nan\n",
      "             nan             nan             nan             nan\n",
      "             nan             nan             nan             nan\n",
      " -3.39642118e+01 -4.60517019e+00 -3.91202301e+00 -3.50655790e+00\n",
      " -3.21887582e+00 -2.99573227e+00 -2.81341072e+00 -2.65926004e+00\n",
      " -2.52572864e+00 -2.40794561e+00 -2.30258509e+00 -2.20727491e+00\n",
      " -2.12026354e+00 -2.04022083e+00 -1.96611286e+00 -1.89711998e+00\n",
      " -1.83258146e+00 -1.77195684e+00 -1.71479843e+00 -1.66073121e+00\n",
      " -1.60943791e+00 -1.56064775e+00 -1.51412773e+00 -1.46967597e+00\n",
      " -1.42711636e+00 -1.38629436e+00 -1.34707365e+00 -1.30933332e+00\n",
      " -1.27296568e+00 -1.23787436e+00 -1.20397280e+00 -1.17118298e+00\n",
      " -1.13943428e+00 -1.10866262e+00 -1.07880966e+00 -1.04982212e+00\n",
      " -1.02165125e+00 -9.94252273e-01 -9.67584026e-01 -9.41608540e-01\n",
      " -9.16290732e-01 -8.91598119e-01 -8.67500568e-01 -8.43970070e-01\n",
      " -8.20980552e-01 -7.98507696e-01 -7.76528789e-01 -7.55022584e-01\n",
      " -7.33969175e-01 -7.13349888e-01 -6.93147181e-01 -6.73344553e-01\n",
      " -6.53926467e-01 -6.34878272e-01 -6.16186139e-01 -5.97837001e-01\n",
      " -5.79818495e-01 -5.62118918e-01 -5.44727175e-01 -5.27632742e-01\n",
      " -5.10825624e-01 -4.94296322e-01 -4.78035801e-01 -4.62035460e-01\n",
      " -4.46287103e-01 -4.30782916e-01 -4.15515444e-01 -4.00477567e-01\n",
      " -3.85662481e-01 -3.71063681e-01 -3.56674944e-01 -3.42490309e-01\n",
      " -3.28504067e-01 -3.14710745e-01 -3.01105093e-01 -2.87682072e-01\n",
      " -2.74436846e-01 -2.61364764e-01 -2.48461359e-01 -2.35722334e-01\n",
      " -2.23143551e-01 -2.10721031e-01 -1.98450939e-01 -1.86329578e-01\n",
      " -1.74353387e-01 -1.62518929e-01 -1.50822890e-01 -1.39262067e-01\n",
      " -1.27833372e-01 -1.16533816e-01 -1.05360516e-01 -9.43106795e-02\n",
      " -8.33816089e-02 -7.25706928e-02 -6.18754037e-02 -5.12932944e-02\n",
      " -4.08219945e-02 -3.04592075e-02 -2.02027073e-02 -1.00503359e-02\n",
      "  2.66453526e-15  9.95033085e-03  1.98026273e-02  2.95588022e-02\n",
      "  3.92207132e-02  4.87901642e-02  5.82689081e-02  6.76586485e-02\n",
      "  7.69610411e-02  8.61776962e-02  9.53101798e-02  1.04360015e-01\n",
      "  1.13328685e-01  1.22217633e-01  1.31028262e-01  1.39761942e-01\n",
      "  1.48420005e-01  1.57003749e-01  1.65514438e-01  1.73953307e-01\n",
      "  1.82321557e-01  1.90620360e-01  1.98850859e-01  2.07014169e-01\n",
      "  2.15111380e-01  2.23143551e-01  2.31111721e-01  2.39016900e-01\n",
      "  2.46860078e-01  2.54642218e-01  2.62364264e-01  2.70027137e-01\n",
      "  2.77631737e-01  2.85178942e-01  2.92669614e-01  3.00104592e-01\n",
      "  3.07484700e-01  3.14810740e-01  3.22083499e-01  3.29303747e-01\n",
      "  3.36472237e-01  3.43589704e-01  3.50656872e-01  3.57674444e-01\n",
      "  3.64643114e-01  3.71563556e-01  3.78436436e-01  3.85262401e-01\n",
      "  3.92042088e-01  3.98776120e-01  4.05465108e-01  4.12109651e-01\n",
      "  4.18710335e-01  4.25267735e-01  4.31782416e-01  4.38254931e-01\n",
      "  4.44685821e-01  4.51075619e-01  4.57424847e-01  4.63734016e-01\n",
      "  4.70003629e-01  4.76234179e-01  4.82426149e-01  4.88580015e-01\n",
      "  4.94696242e-01  5.00775288e-01  5.06817602e-01  5.12823626e-01\n",
      "  5.18793793e-01  5.24728529e-01  5.30628251e-01  5.36493371e-01\n",
      "  5.42324291e-01  5.48121409e-01  5.53885113e-01  5.59615788e-01\n",
      "  5.65313809e-01  5.70979547e-01  5.76613364e-01  5.82215620e-01\n",
      "  5.87786665e-01  5.93326845e-01  5.98836501e-01  6.04315967e-01\n",
      "  6.09765572e-01  6.15185639e-01  6.20576488e-01  6.25938431e-01\n",
      "  6.31271777e-01  6.36576829e-01  6.41853886e-01  6.47103242e-01\n",
      "  6.52325186e-01  6.57520003e-01  6.62687973e-01  6.67829373e-01\n",
      "  6.72944473e-01  6.78033543e-01  6.83096845e-01  6.88134639e-01]\n"
     ]
    },
    {
     "name": "stderr",
     "output_type": "stream",
     "text": [
      "C:\\Users\\Mu-jun\\AppData\\Local\\Temp/ipykernel_7084/2719270062.py:1: RuntimeWarning: invalid value encountered in log\n",
      "  y = np.log(x)\n"
     ]
    }
   ],
   "source": [
    "y = np.log(x)\n",
    "print(y)"
   ]
  },
  {
   "cell_type": "code",
   "execution_count": 10,
   "id": "431bf22f",
   "metadata": {},
   "outputs": [
    {
     "data": {
      "image/png": "[encoded data removed]",
      "text/plain": [
       "<Figure size 432x432 with 1 Axes>"
      ]
     },
     "metadata": {
      "needs_background": "light"
     },
     "output_type": "display_data"
    }
   ],
   "source": [
    "plt.figure(figsize=(6,6))\n",
    "plt.plot(x,y, label='log(x)')\n",
    "plt.ylim(-5,5)\n",
    "plt.legend()\n",
    "plt.show()"
   ]
  },
  {
   "cell_type": "code",
   "execution_count": 13,
   "id": "a03ea858",
   "metadata": {},
   "outputs": [
    {
     "name": "stderr",
     "output_type": "stream",
     "text": [
      "C:\\Users\\Mu-jun\\AppData\\Local\\Temp/ipykernel_7084/2778430336.py:1: RuntimeWarning: invalid value encountered in log\n",
      "  y1 = -np.log(x)\n"
     ]
    },
    {
     "data": {
      "image/png": "[encoded data removed]",
      "text/plain": [
       "<Figure size 432x432 with 1 Axes>"
      ]
     },
     "metadata": {
      "needs_background": "light"
     },
     "output_type": "display_data"
    }
   ],
   "source": [
    "# x축 대칭\n",
    "y1 = -np.log(x)\n",
    "\n",
    "plt.figure(figsize=(6,6))\n",
    "plt.plot(x,y, label='log(x)')\n",
    "plt.plot(x,y1, label='-log(x)')\n",
    "plt.axhline(0, c='k')\n",
    "plt.ylim(-5,5)\n",
    "plt.legend()\n",
    "plt.show()"
   ]
  },
  {
   "cell_type": "code",
   "execution_count": 15,
   "id": "4ae623b3",
   "metadata": {},
   "outputs": [
    {
     "name": "stderr",
     "output_type": "stream",
     "text": [
      "C:\\Users\\Mu-jun\\AppData\\Local\\Temp/ipykernel_7084/3114397324.py:2: RuntimeWarning: invalid value encountered in log\n",
      "  y2 = np.log(-x)\n"
     ]
    },
    {
     "data": {
      "image/png": "[encoded data removed]",
      "text/plain": [
       "<Figure size 432x432 with 1 Axes>"
      ]
     },
     "metadata": {
      "needs_background": "light"
     },
     "output_type": "display_data"
    }
   ],
   "source": [
    "# y축 대칭\n",
    "y2 = np.log(-x)\n",
    "plt.figure(figsize=(6,6))\n",
    "plt.plot(x,y, label='log(x)')\n",
    "plt.plot(x,y2, label='log(-x)')\n",
    "plt.axhline(0, c='k')\n",
    "plt.axvline(0, c='k')\n",
    "plt.ylim(-5,5)\n",
    "plt.legend()\n",
    "plt.show()"
   ]
  },
  {
   "cell_type": "code",
   "execution_count": 16,
   "id": "9e6a3940",
   "metadata": {},
   "outputs": [
    {
     "name": "stderr",
     "output_type": "stream",
     "text": [
      "C:\\Users\\Mu-jun\\AppData\\Local\\Temp/ipykernel_7084/264767291.py:2: RuntimeWarning: invalid value encountered in log\n",
      "  y3 = -np.log(-x)\n",
      "C:\\Users\\Mu-jun\\AppData\\Local\\Temp/ipykernel_7084/264767291.py:5: RuntimeWarning: invalid value encountered in log\n",
      "  y2 = np.log(-x)\n"
     ]
    },
    {
     "data": {
      "image/png": "[encoded data removed]",
      "text/plain": [
       "<Figure size 432x432 with 1 Axes>"
      ]
     },
     "metadata": {
      "needs_background": "light"
     },
     "output_type": "display_data"
    }
   ],
   "source": [
    "# 원점 대칭\n",
    "y3 = -np.log(-x)\n",
    "\n",
    "# y축 대칭\n",
    "y2 = np.log(-x)\n",
    "plt.figure(figsize=(6,6))\n",
    "plt.plot(x,y, label='log(x)')\n",
    "plt.plot(x,y3, label='-log(-x)')\n",
    "plt.axhline(0, c='k')\n",
    "plt.axvline(0, c='k')\n",
    "plt.ylim(-5,5)\n",
    "plt.legend()\n",
    "plt.show()"
   ]
  },
  {
   "cell_type": "code",
   "execution_count": 21,
   "id": "81f3b54c",
   "metadata": {},
   "outputs": [
    {
     "name": "stderr",
     "output_type": "stream",
     "text": [
      "C:\\Users\\Mu-jun\\AppData\\Local\\Temp/ipykernel_7084/53249543.py:2: RuntimeWarning: invalid value encountered in log\n",
      "  y4 = -np.log(-(x-1))\n"
     ]
    },
    {
     "data": {
      "image/png": "[encoded data removed]",
      "text/plain": [
       "<Figure size 432x432 with 1 Axes>"
      ]
     },
     "metadata": {
      "needs_background": "light"
     },
     "output_type": "display_data"
    }
   ],
   "source": [
    "# x축 평행이동\n",
    "y4 = -np.log(-(x-1))\n",
    "\n",
    "plt.figure(figsize=(6,6))\n",
    "plt.plot(x,y1, label='-log(x)')\n",
    "plt.plot(x,y4, label='-log(-(x-1))')\n",
    "plt.axhline(0, c='k')\n",
    "plt.axvline(0, c='k')\n",
    "plt.axvline(1, c='g')\n",
    "plt.ylim(-5,5)\n",
    "plt.legend()\n",
    "plt.show()"
   ]
  }
 ],
 "metadata": {
  "kernelspec": {
   "display_name": "base",
   "language": "python",
   "name": "base"
  },
  "language_info": {
   "codemirror_mode": {
    "name": "ipython",
    "version": 3
   },
   "file_extension": ".py",
   "mimetype": "text/x-python",
   "name": "python",
   "nbconvert_exporter": "python",
   "pygments_lexer": "ipython3",
   "version": "3.9.7"
  }
 },
 "nbformat": 4,
 "nbformat_minor": 5
}
